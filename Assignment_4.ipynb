{
  "cells": [
    {
      "cell_type": "markdown",
      "metadata": {
        "id": "AaYIP4HhVFcH"
      },
      "source": [
        "### Today we are going to perform the simple classification of the amazon reviews' sentiment.\n",
        "\n",
        "### Please, download the dataset amazon_baby.csv."
      ]
    },
    {
      "cell_type": "code",
      "execution_count": 3,
      "metadata": {
        "colab": {
          "base_uri": "https://localhost:8080/",
          "height": 224
        },
        "id": "nmd9lrmdVFcK",
        "outputId": "bc84e306-74fd-4ffd-b01f-45dcae1c8b3c"
      },
      "outputs": [
        {
          "output_type": "stream",
          "name": "stdout",
          "text": [
            "Drive already mounted at /content/drive; to attempt to forcibly remount, call drive.mount(\"/content/drive\", force_remount=True).\n"
          ]
        },
        {
          "output_type": "execute_result",
          "data": {
            "text/plain": [
              "   Review_ID  Rating Year_Month     Reviewer_Location  \\\n",
              "0  670772142       4     2019-4             Australia   \n",
              "1  670682799       4     2019-5           Philippines   \n",
              "2  670623270       4     2019-4  United Arab Emirates   \n",
              "3  670607911       4     2019-4             Australia   \n",
              "4  670607296       4     2019-4        United Kingdom   \n",
              "\n",
              "                                         Review_Text               Branch  \n",
              "0  If you've ever been to Disneyland anywhere you...  Disneyland_HongKong  \n",
              "1  Its been a while since d last time we visit HK...  Disneyland_HongKong  \n",
              "2  Thanks God it wasn   t too hot or too humid wh...  Disneyland_HongKong  \n",
              "3  HK Disneyland is a great compact park. Unfortu...  Disneyland_HongKong  \n",
              "4  the location is not in the city, took around 1...  Disneyland_HongKong  "
            ],
            "text/html": [
              "\n",
              "  <div id=\"df-793c5559-440e-4663-954d-8ad0d90109b1\" class=\"colab-df-container\">\n",
              "    <div>\n",
              "<style scoped>\n",
              "    .dataframe tbody tr th:only-of-type {\n",
              "        vertical-align: middle;\n",
              "    }\n",
              "\n",
              "    .dataframe tbody tr th {\n",
              "        vertical-align: top;\n",
              "    }\n",
              "\n",
              "    .dataframe thead th {\n",
              "        text-align: right;\n",
              "    }\n",
              "</style>\n",
              "<table border=\"1\" class=\"dataframe\">\n",
              "  <thead>\n",
              "    <tr style=\"text-align: right;\">\n",
              "      <th></th>\n",
              "      <th>Review_ID</th>\n",
              "      <th>Rating</th>\n",
              "      <th>Year_Month</th>\n",
              "      <th>Reviewer_Location</th>\n",
              "      <th>Review_Text</th>\n",
              "      <th>Branch</th>\n",
              "    </tr>\n",
              "  </thead>\n",
              "  <tbody>\n",
              "    <tr>\n",
              "      <th>0</th>\n",
              "      <td>670772142</td>\n",
              "      <td>4</td>\n",
              "      <td>2019-4</td>\n",
              "      <td>Australia</td>\n",
              "      <td>If you've ever been to Disneyland anywhere you...</td>\n",
              "      <td>Disneyland_HongKong</td>\n",
              "    </tr>\n",
              "    <tr>\n",
              "      <th>1</th>\n",
              "      <td>670682799</td>\n",
              "      <td>4</td>\n",
              "      <td>2019-5</td>\n",
              "      <td>Philippines</td>\n",
              "      <td>Its been a while since d last time we visit HK...</td>\n",
              "      <td>Disneyland_HongKong</td>\n",
              "    </tr>\n",
              "    <tr>\n",
              "      <th>2</th>\n",
              "      <td>670623270</td>\n",
              "      <td>4</td>\n",
              "      <td>2019-4</td>\n",
              "      <td>United Arab Emirates</td>\n",
              "      <td>Thanks God it wasn   t too hot or too humid wh...</td>\n",
              "      <td>Disneyland_HongKong</td>\n",
              "    </tr>\n",
              "    <tr>\n",
              "      <th>3</th>\n",
              "      <td>670607911</td>\n",
              "      <td>4</td>\n",
              "      <td>2019-4</td>\n",
              "      <td>Australia</td>\n",
              "      <td>HK Disneyland is a great compact park. Unfortu...</td>\n",
              "      <td>Disneyland_HongKong</td>\n",
              "    </tr>\n",
              "    <tr>\n",
              "      <th>4</th>\n",
              "      <td>670607296</td>\n",
              "      <td>4</td>\n",
              "      <td>2019-4</td>\n",
              "      <td>United Kingdom</td>\n",
              "      <td>the location is not in the city, took around 1...</td>\n",
              "      <td>Disneyland_HongKong</td>\n",
              "    </tr>\n",
              "  </tbody>\n",
              "</table>\n",
              "</div>\n",
              "    <div class=\"colab-df-buttons\">\n",
              "\n",
              "  <div class=\"colab-df-container\">\n",
              "    <button class=\"colab-df-convert\" onclick=\"convertToInteractive('df-793c5559-440e-4663-954d-8ad0d90109b1')\"\n",
              "            title=\"Convert this dataframe to an interactive table.\"\n",
              "            style=\"display:none;\">\n",
              "\n",
              "  <svg xmlns=\"http://www.w3.org/2000/svg\" height=\"24px\" viewBox=\"0 -960 960 960\">\n",
              "    <path d=\"M120-120v-720h720v720H120Zm60-500h600v-160H180v160Zm220 220h160v-160H400v160Zm0 220h160v-160H400v160ZM180-400h160v-160H180v160Zm440 0h160v-160H620v160ZM180-180h160v-160H180v160Zm440 0h160v-160H620v160Z\"/>\n",
              "  </svg>\n",
              "    </button>\n",
              "\n",
              "  <style>\n",
              "    .colab-df-container {\n",
              "      display:flex;\n",
              "      gap: 12px;\n",
              "    }\n",
              "\n",
              "    .colab-df-convert {\n",
              "      background-color: #E8F0FE;\n",
              "      border: none;\n",
              "      border-radius: 50%;\n",
              "      cursor: pointer;\n",
              "      display: none;\n",
              "      fill: #1967D2;\n",
              "      height: 32px;\n",
              "      padding: 0 0 0 0;\n",
              "      width: 32px;\n",
              "    }\n",
              "\n",
              "    .colab-df-convert:hover {\n",
              "      background-color: #E2EBFA;\n",
              "      box-shadow: 0px 1px 2px rgba(60, 64, 67, 0.3), 0px 1px 3px 1px rgba(60, 64, 67, 0.15);\n",
              "      fill: #174EA6;\n",
              "    }\n",
              "\n",
              "    .colab-df-buttons div {\n",
              "      margin-bottom: 4px;\n",
              "    }\n",
              "\n",
              "    [theme=dark] .colab-df-convert {\n",
              "      background-color: #3B4455;\n",
              "      fill: #D2E3FC;\n",
              "    }\n",
              "\n",
              "    [theme=dark] .colab-df-convert:hover {\n",
              "      background-color: #434B5C;\n",
              "      box-shadow: 0px 1px 3px 1px rgba(0, 0, 0, 0.15);\n",
              "      filter: drop-shadow(0px 1px 2px rgba(0, 0, 0, 0.3));\n",
              "      fill: #FFFFFF;\n",
              "    }\n",
              "  </style>\n",
              "\n",
              "    <script>\n",
              "      const buttonEl =\n",
              "        document.querySelector('#df-793c5559-440e-4663-954d-8ad0d90109b1 button.colab-df-convert');\n",
              "      buttonEl.style.display =\n",
              "        google.colab.kernel.accessAllowed ? 'block' : 'none';\n",
              "\n",
              "      async function convertToInteractive(key) {\n",
              "        const element = document.querySelector('#df-793c5559-440e-4663-954d-8ad0d90109b1');\n",
              "        const dataTable =\n",
              "          await google.colab.kernel.invokeFunction('convertToInteractive',\n",
              "                                                    [key], {});\n",
              "        if (!dataTable) return;\n",
              "\n",
              "        const docLinkHtml = 'Like what you see? Visit the ' +\n",
              "          '<a target=\"_blank\" href=https://colab.research.google.com/notebooks/data_table.ipynb>data table notebook</a>'\n",
              "          + ' to learn more about interactive tables.';\n",
              "        element.innerHTML = '';\n",
              "        dataTable['output_type'] = 'display_data';\n",
              "        await google.colab.output.renderOutput(dataTable, element);\n",
              "        const docLink = document.createElement('div');\n",
              "        docLink.innerHTML = docLinkHtml;\n",
              "        element.appendChild(docLink);\n",
              "      }\n",
              "    </script>\n",
              "  </div>\n",
              "\n",
              "\n",
              "<div id=\"df-4e3d162b-163a-4666-a413-0d5043e921b4\">\n",
              "  <button class=\"colab-df-quickchart\" onclick=\"quickchart('df-4e3d162b-163a-4666-a413-0d5043e921b4')\"\n",
              "            title=\"Suggest charts\"\n",
              "            style=\"display:none;\">\n",
              "\n",
              "<svg xmlns=\"http://www.w3.org/2000/svg\" height=\"24px\"viewBox=\"0 0 24 24\"\n",
              "     width=\"24px\">\n",
              "    <g>\n",
              "        <path d=\"M19 3H5c-1.1 0-2 .9-2 2v14c0 1.1.9 2 2 2h14c1.1 0 2-.9 2-2V5c0-1.1-.9-2-2-2zM9 17H7v-7h2v7zm4 0h-2V7h2v10zm4 0h-2v-4h2v4z\"/>\n",
              "    </g>\n",
              "</svg>\n",
              "  </button>\n",
              "\n",
              "<style>\n",
              "  .colab-df-quickchart {\n",
              "      --bg-color: #E8F0FE;\n",
              "      --fill-color: #1967D2;\n",
              "      --hover-bg-color: #E2EBFA;\n",
              "      --hover-fill-color: #174EA6;\n",
              "      --disabled-fill-color: #AAA;\n",
              "      --disabled-bg-color: #DDD;\n",
              "  }\n",
              "\n",
              "  [theme=dark] .colab-df-quickchart {\n",
              "      --bg-color: #3B4455;\n",
              "      --fill-color: #D2E3FC;\n",
              "      --hover-bg-color: #434B5C;\n",
              "      --hover-fill-color: #FFFFFF;\n",
              "      --disabled-bg-color: #3B4455;\n",
              "      --disabled-fill-color: #666;\n",
              "  }\n",
              "\n",
              "  .colab-df-quickchart {\n",
              "    background-color: var(--bg-color);\n",
              "    border: none;\n",
              "    border-radius: 50%;\n",
              "    cursor: pointer;\n",
              "    display: none;\n",
              "    fill: var(--fill-color);\n",
              "    height: 32px;\n",
              "    padding: 0;\n",
              "    width: 32px;\n",
              "  }\n",
              "\n",
              "  .colab-df-quickchart:hover {\n",
              "    background-color: var(--hover-bg-color);\n",
              "    box-shadow: 0 1px 2px rgba(60, 64, 67, 0.3), 0 1px 3px 1px rgba(60, 64, 67, 0.15);\n",
              "    fill: var(--button-hover-fill-color);\n",
              "  }\n",
              "\n",
              "  .colab-df-quickchart-complete:disabled,\n",
              "  .colab-df-quickchart-complete:disabled:hover {\n",
              "    background-color: var(--disabled-bg-color);\n",
              "    fill: var(--disabled-fill-color);\n",
              "    box-shadow: none;\n",
              "  }\n",
              "\n",
              "  .colab-df-spinner {\n",
              "    border: 2px solid var(--fill-color);\n",
              "    border-color: transparent;\n",
              "    border-bottom-color: var(--fill-color);\n",
              "    animation:\n",
              "      spin 1s steps(1) infinite;\n",
              "  }\n",
              "\n",
              "  @keyframes spin {\n",
              "    0% {\n",
              "      border-color: transparent;\n",
              "      border-bottom-color: var(--fill-color);\n",
              "      border-left-color: var(--fill-color);\n",
              "    }\n",
              "    20% {\n",
              "      border-color: transparent;\n",
              "      border-left-color: var(--fill-color);\n",
              "      border-top-color: var(--fill-color);\n",
              "    }\n",
              "    30% {\n",
              "      border-color: transparent;\n",
              "      border-left-color: var(--fill-color);\n",
              "      border-top-color: var(--fill-color);\n",
              "      border-right-color: var(--fill-color);\n",
              "    }\n",
              "    40% {\n",
              "      border-color: transparent;\n",
              "      border-right-color: var(--fill-color);\n",
              "      border-top-color: var(--fill-color);\n",
              "    }\n",
              "    60% {\n",
              "      border-color: transparent;\n",
              "      border-right-color: var(--fill-color);\n",
              "    }\n",
              "    80% {\n",
              "      border-color: transparent;\n",
              "      border-right-color: var(--fill-color);\n",
              "      border-bottom-color: var(--fill-color);\n",
              "    }\n",
              "    90% {\n",
              "      border-color: transparent;\n",
              "      border-bottom-color: var(--fill-color);\n",
              "    }\n",
              "  }\n",
              "</style>\n",
              "\n",
              "  <script>\n",
              "    async function quickchart(key) {\n",
              "      const quickchartButtonEl =\n",
              "        document.querySelector('#' + key + ' button');\n",
              "      quickchartButtonEl.disabled = true;  // To prevent multiple clicks.\n",
              "      quickchartButtonEl.classList.add('colab-df-spinner');\n",
              "      try {\n",
              "        const charts = await google.colab.kernel.invokeFunction(\n",
              "            'suggestCharts', [key], {});\n",
              "      } catch (error) {\n",
              "        console.error('Error during call to suggestCharts:', error);\n",
              "      }\n",
              "      quickchartButtonEl.classList.remove('colab-df-spinner');\n",
              "      quickchartButtonEl.classList.add('colab-df-quickchart-complete');\n",
              "    }\n",
              "    (() => {\n",
              "      let quickchartButtonEl =\n",
              "        document.querySelector('#df-4e3d162b-163a-4666-a413-0d5043e921b4 button');\n",
              "      quickchartButtonEl.style.display =\n",
              "        google.colab.kernel.accessAllowed ? 'block' : 'none';\n",
              "    })();\n",
              "  </script>\n",
              "</div>\n",
              "    </div>\n",
              "  </div>\n"
            ]
          },
          "metadata": {},
          "execution_count": 3
        }
      ],
      "source": [
        "import pandas as pd\n",
        "import numpy as np\n",
        "import matplotlib.pyplot as plt\n",
        "import string\n",
        "from sklearn.linear_model import LogisticRegression\n",
        "from google.colab import drive\n",
        "def remove_punctuation(text):\n",
        "    import string\n",
        "    translator = str.maketrans('', '', string.punctuation)\n",
        "    return text.translate(translator)\n",
        "drive.mount('/content/drive')\n",
        "baby_df = pd.read_csv('/content/drive/MyDrive/dataScience/DisneylandReviews.csv', encoding = 'latin-1')\n",
        "baby_df.head()"
      ]
    },
    {
      "cell_type": "code",
      "source": [
        "baby_df.rename(columns = {'Reviewer_Location' : 'location', 'Review_Text' : 'review'}, inplace = True )"
      ],
      "metadata": {
        "id": "QfTgdgE2GUG4"
      },
      "execution_count": 10,
      "outputs": []
    },
    {
      "cell_type": "markdown",
      "metadata": {
        "id": "OuA0RSGMVFcN"
      },
      "source": [
        "## Exercise 1 (data preparation)\n",
        "a) Remove punctuation from reviews using the given function.   \n",
        "b) Replace all missing (nan) revies with empty \"\" string.  \n",
        "c) Drop all the entries with rating = 3, as they have neutral sentiment.   \n",
        "d) Set all positive ($\\geq$4) ratings to 1 and negative($\\leq$2) to -1."
      ]
    },
    {
      "cell_type": "code",
      "execution_count": 11,
      "metadata": {
        "colab": {
          "base_uri": "https://localhost:8080/"
        },
        "id": "6mXWCKcIVFcQ",
        "outputId": "4f20e920-5762-41fc-c6c6-dd67d5ba26db"
      },
      "outputs": [
        {
          "output_type": "execute_result",
          "data": {
            "text/plain": [
              "True"
            ]
          },
          "metadata": {},
          "execution_count": 11
        }
      ],
      "source": [
        "#b)\n",
        "baby_df[\"review\"] = baby_df[\"review\"].fillna(\"\")\n",
        "\n",
        "#short test:\n",
        "baby_df[\"review\"][38] == baby_df[\"review\"][38]"
      ]
    },
    {
      "cell_type": "code",
      "execution_count": 12,
      "metadata": {
        "colab": {
          "base_uri": "https://localhost:8080/"
        },
        "id": "sHhT1QEJVFcO",
        "outputId": "bc6282ed-d9c4-4f77-8900-7d2d22edba20"
      },
      "outputs": [
        {
          "output_type": "execute_result",
          "data": {
            "text/plain": [
              "False"
            ]
          },
          "metadata": {},
          "execution_count": 12
        }
      ],
      "source": [
        "#a)\n",
        "baby_df[\"review\"] = baby_df[\"review\"].apply(remove_punctuation)\n",
        "\n",
        "\n",
        "#short test:\n",
        "baby_df[\"review\"][4] == 'All of my kids have cried nonstop when I tried to ween them off their pacifier until I found Thumbuddy To Loves Binky Fairy Puppet  It is an easy way to work with your kids to allow them to understand where their pacifier is going and help them part from itThis is a must buy book and a great gift for expecting parents  You will save them soo many headachesThanks for this book  You all rock'\n",
        "remove_punctuation(baby_df[\"review\"][4]) == 'All of my kids have cried nonstop when I tried to ween them off their pacifier until I found Thumbuddy To Loves Binky Fairy Puppet  It is an easy way to work with your kids to allow them to understand where their pacifier is going and help them part from itThis is a must buy book and a great gift for expecting parents  You will save them soo many headachesThanks for this book  You all rock'"
      ]
    },
    {
      "cell_type": "code",
      "execution_count": 15,
      "metadata": {
        "colab": {
          "base_uri": "https://localhost:8080/"
        },
        "id": "Ei4fg6riVFcR",
        "outputId": "c3c920f0-db85-454d-f8ff-62dac3377023"
      },
      "outputs": [
        {
          "output_type": "execute_result",
          "data": {
            "text/plain": [
              "0"
            ]
          },
          "metadata": {},
          "execution_count": 15
        }
      ],
      "source": [
        "#c)\n",
        "baby_df = baby_df.drop(baby_df[baby_df.Rating == 3].index)\n",
        "\n",
        "#short test:\n",
        "sum(baby_df[\"Rating\"] == 3)"
      ]
    },
    {
      "cell_type": "code",
      "execution_count": 17,
      "metadata": {
        "colab": {
          "base_uri": "https://localhost:8080/"
        },
        "id": "eiYhyJXEbxg6",
        "outputId": "f766a2e6-564e-4baf-937a-1b5fa75fabd9"
      },
      "outputs": [
        {
          "output_type": "stream",
          "name": "stdout",
          "text": [
            "0      4\n",
            "1      4\n",
            "2      4\n",
            "3      4\n",
            "4      4\n",
            "      ..\n",
            "114    5\n",
            "115    4\n",
            "116    5\n",
            "117    4\n",
            "118    4\n",
            "Name: Rating, Length: 100, dtype: int64\n"
          ]
        }
      ],
      "source": [
        "print(baby_df[\"Rating\"][:100])"
      ]
    },
    {
      "cell_type": "code",
      "execution_count": 18,
      "metadata": {
        "colab": {
          "base_uri": "https://localhost:8080/"
        },
        "id": "53NoqxnUVFcT",
        "outputId": "7ec29791-6652-4503-e20a-f391bf85d708"
      },
      "outputs": [
        {
          "output_type": "execute_result",
          "data": {
            "text/plain": [
              "0"
            ]
          },
          "metadata": {},
          "execution_count": 18
        }
      ],
      "source": [
        "#d)\n",
        "baby_df.loc[baby_df[\"Rating\"] <= 2, \"Rating\"] = -1\n",
        "baby_df.loc[baby_df[\"Rating\"] >= 4, \"Rating\"] = 1\n",
        "\n",
        "\n",
        "#short test:\n",
        "sum(baby_df[\"Rating\"]**2 != 1)"
      ]
    },
    {
      "cell_type": "code",
      "execution_count": 19,
      "metadata": {
        "colab": {
          "base_uri": "https://localhost:8080/"
        },
        "id": "dTeY7ghRcKPM",
        "outputId": "3675bdf9-0d36-4ace-d64d-61b1112322e4"
      },
      "outputs": [
        {
          "output_type": "stream",
          "name": "stdout",
          "text": [
            "0       1\n",
            "1       1\n",
            "2       1\n",
            "3       1\n",
            "4       1\n",
            "       ..\n",
            "1147    1\n",
            "1148    1\n",
            "1149    1\n",
            "1151    1\n",
            "1152    1\n",
            "Name: Rating, Length: 1000, dtype: int64\n"
          ]
        }
      ],
      "source": [
        "print(baby_df[\"Rating\"][:1000])"
      ]
    },
    {
      "cell_type": "markdown",
      "metadata": {
        "id": "z195gBL6VFcU"
      },
      "source": [
        "## CountVectorizer\n",
        "In order to analyze strings, we need to assign them numerical values. We will use one of the simplest string representation, which transforms strings into the $n$ dimensional vectors. The number of dimensions will be the size of our dictionary, and then the values of the vector will represent the number of appereances of the given word in the sentence."
      ]
    },
    {
      "cell_type": "code",
      "execution_count": 20,
      "metadata": {
        "colab": {
          "base_uri": "https://localhost:8080/"
        },
        "id": "6dI0EHV9VFcU",
        "outputId": "35b227dd-0c79-424d-853d-1c8c826a6367"
      },
      "outputs": [
        {
          "output_type": "stream",
          "name": "stdout",
          "text": [
            "[[0 0 1 0 0 0 1 0 0 1]\n",
            " [0 0 0 0 0 1 0 1 0 1]\n",
            " [1 0 0 1 0 0 0 0 0 0]\n",
            " [0 1 1 0 0 0 2 1 0 1]\n",
            " [0 0 0 1 1 0 0 0 1 0]]\n"
          ]
        }
      ],
      "source": [
        "from sklearn.feature_extraction.text import CountVectorizer\n",
        "\n",
        "vectorizer = CountVectorizer()\n",
        "reviews_train_example = [\"We like apples\",\n",
        "                   \"We hate oranges\",\n",
        "                   \"I adore bananas\",\n",
        "                   \"We like like apples and oranges\",\n",
        "                   \"They dislike bananas\"]\n",
        "\n",
        "X_train_example = vectorizer.fit_transform(reviews_train_example)\n",
        "\n",
        "#print(vectorizer.get_feature_names())\n",
        "print(X_train_example.todense())\n",
        "\n"
      ]
    },
    {
      "cell_type": "code",
      "execution_count": 21,
      "metadata": {
        "colab": {
          "base_uri": "https://localhost:8080/"
        },
        "id": "08ffe19wVFcW",
        "outputId": "442f9377-6468-4c78-de89-1115c5acad95"
      },
      "outputs": [
        {
          "output_type": "stream",
          "name": "stdout",
          "text": [
            "[[0 0 0 1 0 0 1 0 1 0]\n",
            " [0 1 1 1 0 1 0 1 0 1]\n",
            " [0 0 0 1 0 0 0 0 0 1]]\n"
          ]
        }
      ],
      "source": [
        "reviews_test_example = [\"They like bananas\",\n",
        "                   \"We hate oranges bananas and apples\",\n",
        "                   \"We love bananas\"] #New word!\n",
        "\n",
        "X_test_example = vectorizer.transform(reviews_test_example)\n",
        "\n",
        "print(X_test_example.todense())"
      ]
    },
    {
      "cell_type": "markdown",
      "metadata": {
        "id": "hFTboWAAVFcX"
      },
      "source": [
        "We should acknowledge few facts. Firstly, CountVectorizer does not take order into account. Secondly, it ignores one-letter words (this can be changed during initialization). Finally, for test values, CountVectorizer ignores words which are not in it's dictionary."
      ]
    },
    {
      "cell_type": "markdown",
      "metadata": {
        "id": "CEjqPWDaVFcX"
      },
      "source": [
        "## Exercise 2\n",
        "a) Split dataset into training and test sets.     \n",
        "b) Transform reviews into vectors using CountVectorizer."
      ]
    },
    {
      "cell_type": "code",
      "execution_count": 22,
      "metadata": {
        "collapsed": true,
        "id": "I7SQ3ub8VFcY"
      },
      "outputs": [],
      "source": [
        "#a)\n",
        "from sklearn.model_selection import train_test_split\n",
        "\n",
        "\n",
        "X = baby_df[\"review\"][:5000]\n",
        "y = baby_df[\"Rating\"][:5000]\n",
        "\n",
        "x_train, x_test, ra_train, ra_test = train_test_split(X, y, test_size=0.3, random_state=44)\n"
      ]
    },
    {
      "cell_type": "code",
      "execution_count": 23,
      "metadata": {
        "collapsed": true,
        "id": "KzsCBvKNVFcY"
      },
      "outputs": [],
      "source": [
        "#b)\n",
        "\n",
        "re_train = vectorizer.fit_transform(x_train)\n",
        "re_test = vectorizer.transform(x_test)\n",
        "\n",
        "\n"
      ]
    },
    {
      "cell_type": "markdown",
      "metadata": {
        "id": "oCQ4W9p2VFcZ"
      },
      "source": [
        "## Exercise 3\n",
        "a) Train LogisticRegression model on training data (reviews processed with CountVectorizer, ratings as they were).   \n",
        "b) Print 10 most positive and 10 most negative words."
      ]
    },
    {
      "cell_type": "code",
      "execution_count": 24,
      "metadata": {
        "colab": {
          "base_uri": "https://localhost:8080/"
        },
        "id": "uZ9iqD8qbkwk",
        "outputId": "c75b653a-04da-4e19-a727-900e71ed6910"
      },
      "outputs": [
        {
          "output_type": "stream",
          "name": "stdout",
          "text": [
            "0     1\n",
            "1     1\n",
            "2     1\n",
            "3     1\n",
            "4     1\n",
            "6     1\n",
            "8    -1\n",
            "9     1\n",
            "10    1\n",
            "11    1\n",
            "Name: Rating, dtype: int64\n"
          ]
        }
      ],
      "source": [
        "print(baby_df[\"Rating\"][:10])"
      ]
    },
    {
      "cell_type": "code",
      "execution_count": 25,
      "metadata": {
        "colab": {
          "base_uri": "https://localhost:8080/",
          "height": 75
        },
        "collapsed": true,
        "id": "cXDgXQ1xVFcZ",
        "outputId": "6ef478cd-a13d-4ee9-db7f-db167f862035"
      },
      "outputs": [
        {
          "output_type": "execute_result",
          "data": {
            "text/plain": [
              "LogisticRegression(max_iter=8000)"
            ],
            "text/html": [
              "<style>#sk-container-id-1 {color: black;background-color: white;}#sk-container-id-1 pre{padding: 0;}#sk-container-id-1 div.sk-toggleable {background-color: white;}#sk-container-id-1 label.sk-toggleable__label {cursor: pointer;display: block;width: 100%;margin-bottom: 0;padding: 0.3em;box-sizing: border-box;text-align: center;}#sk-container-id-1 label.sk-toggleable__label-arrow:before {content: \"▸\";float: left;margin-right: 0.25em;color: #696969;}#sk-container-id-1 label.sk-toggleable__label-arrow:hover:before {color: black;}#sk-container-id-1 div.sk-estimator:hover label.sk-toggleable__label-arrow:before {color: black;}#sk-container-id-1 div.sk-toggleable__content {max-height: 0;max-width: 0;overflow: hidden;text-align: left;background-color: #f0f8ff;}#sk-container-id-1 div.sk-toggleable__content pre {margin: 0.2em;color: black;border-radius: 0.25em;background-color: #f0f8ff;}#sk-container-id-1 input.sk-toggleable__control:checked~div.sk-toggleable__content {max-height: 200px;max-width: 100%;overflow: auto;}#sk-container-id-1 input.sk-toggleable__control:checked~label.sk-toggleable__label-arrow:before {content: \"▾\";}#sk-container-id-1 div.sk-estimator input.sk-toggleable__control:checked~label.sk-toggleable__label {background-color: #d4ebff;}#sk-container-id-1 div.sk-label input.sk-toggleable__control:checked~label.sk-toggleable__label {background-color: #d4ebff;}#sk-container-id-1 input.sk-hidden--visually {border: 0;clip: rect(1px 1px 1px 1px);clip: rect(1px, 1px, 1px, 1px);height: 1px;margin: -1px;overflow: hidden;padding: 0;position: absolute;width: 1px;}#sk-container-id-1 div.sk-estimator {font-family: monospace;background-color: #f0f8ff;border: 1px dotted black;border-radius: 0.25em;box-sizing: border-box;margin-bottom: 0.5em;}#sk-container-id-1 div.sk-estimator:hover {background-color: #d4ebff;}#sk-container-id-1 div.sk-parallel-item::after {content: \"\";width: 100%;border-bottom: 1px solid gray;flex-grow: 1;}#sk-container-id-1 div.sk-label:hover label.sk-toggleable__label {background-color: #d4ebff;}#sk-container-id-1 div.sk-serial::before {content: \"\";position: absolute;border-left: 1px solid gray;box-sizing: border-box;top: 0;bottom: 0;left: 50%;z-index: 0;}#sk-container-id-1 div.sk-serial {display: flex;flex-direction: column;align-items: center;background-color: white;padding-right: 0.2em;padding-left: 0.2em;position: relative;}#sk-container-id-1 div.sk-item {position: relative;z-index: 1;}#sk-container-id-1 div.sk-parallel {display: flex;align-items: stretch;justify-content: center;background-color: white;position: relative;}#sk-container-id-1 div.sk-item::before, #sk-container-id-1 div.sk-parallel-item::before {content: \"\";position: absolute;border-left: 1px solid gray;box-sizing: border-box;top: 0;bottom: 0;left: 50%;z-index: -1;}#sk-container-id-1 div.sk-parallel-item {display: flex;flex-direction: column;z-index: 1;position: relative;background-color: white;}#sk-container-id-1 div.sk-parallel-item:first-child::after {align-self: flex-end;width: 50%;}#sk-container-id-1 div.sk-parallel-item:last-child::after {align-self: flex-start;width: 50%;}#sk-container-id-1 div.sk-parallel-item:only-child::after {width: 0;}#sk-container-id-1 div.sk-dashed-wrapped {border: 1px dashed gray;margin: 0 0.4em 0.5em 0.4em;box-sizing: border-box;padding-bottom: 0.4em;background-color: white;}#sk-container-id-1 div.sk-label label {font-family: monospace;font-weight: bold;display: inline-block;line-height: 1.2em;}#sk-container-id-1 div.sk-label-container {text-align: center;}#sk-container-id-1 div.sk-container {/* jupyter's `normalize.less` sets `[hidden] { display: none; }` but bootstrap.min.css set `[hidden] { display: none !important; }` so we also need the `!important` here to be able to override the default hidden behavior on the sphinx rendered scikit-learn.org. See: https://github.com/scikit-learn/scikit-learn/issues/21755 */display: inline-block !important;position: relative;}#sk-container-id-1 div.sk-text-repr-fallback {display: none;}</style><div id=\"sk-container-id-1\" class=\"sk-top-container\"><div class=\"sk-text-repr-fallback\"><pre>LogisticRegression(max_iter=8000)</pre><b>In a Jupyter environment, please rerun this cell to show the HTML representation or trust the notebook. <br />On GitHub, the HTML representation is unable to render, please try loading this page with nbviewer.org.</b></div><div class=\"sk-container\" hidden><div class=\"sk-item\"><div class=\"sk-estimator sk-toggleable\"><input class=\"sk-toggleable__control sk-hidden--visually\" id=\"sk-estimator-id-1\" type=\"checkbox\" checked><label for=\"sk-estimator-id-1\" class=\"sk-toggleable__label sk-toggleable__label-arrow\">LogisticRegression</label><div class=\"sk-toggleable__content\"><pre>LogisticRegression(max_iter=8000)</pre></div></div></div></div></div>"
            ]
          },
          "metadata": {},
          "execution_count": 25
        }
      ],
      "source": [
        "#a)\n",
        "model = LogisticRegression(max_iter = 8000)\n",
        "model.fit(re_train, ra_train)\n",
        "\n",
        "\n"
      ]
    },
    {
      "cell_type": "code",
      "execution_count": 26,
      "metadata": {
        "collapsed": true,
        "id": "F75l4XCaVFca",
        "colab": {
          "base_uri": "https://localhost:8080/"
        },
        "outputId": "e97e71c7-77d8-4249-c64b-56716e152673"
      },
      "outputs": [
        {
          "output_type": "stream",
          "name": "stdout",
          "text": [
            "most positive words:  ('great', 'clean', 'enjoyed', 'parade', 'though', 'however', 'loved', 'must', 'can', 'different')\n",
            "most negative words:  ('disappointment', 'money', 'disappointing', 'closed', 'then', 'sun', 'disappointed', 'nothing', 'rude', 'few')\n"
          ]
        }
      ],
      "source": [
        "#b)\n",
        "coefs, words = zip(*sorted(zip(model.coef_[0], vectorizer.get_feature_names_out())))\n",
        "print('most positive words: ',tuple(reversed(words[-11:-1])))\n",
        "print('most negative words: ',words[0:10])\n",
        "\n",
        "#hint: model.coef_, vectorizer.get_feature_names()"
      ]
    },
    {
      "cell_type": "markdown",
      "metadata": {
        "id": "5-L7DvSqVFca"
      },
      "source": [
        "## Exercise 4\n",
        "a) Predict the sentiment of test data reviews.   \n",
        "b) Predict the sentiment of test data reviews in terms of probability.   \n",
        "c) Find five most positive and most negative reviews.   \n",
        "d) Calculate the accuracy of predictions."
      ]
    },
    {
      "cell_type": "code",
      "execution_count": 27,
      "metadata": {
        "collapsed": true,
        "id": "icTp53FpVFcb"
      },
      "outputs": [],
      "source": [
        "#a)\n",
        "sentiment_pred = model.predict(re_test)"
      ]
    },
    {
      "cell_type": "code",
      "execution_count": 28,
      "metadata": {
        "collapsed": true,
        "id": "qR1OgA6xVFcb"
      },
      "outputs": [],
      "source": [
        "#b)\n",
        "sentiment_proba = model.predict_proba(re_test)\n",
        "#hint: model.predict_proba()"
      ]
    },
    {
      "cell_type": "code",
      "execution_count": 29,
      "metadata": {
        "collapsed": true,
        "id": "pxPpk47YVFcb",
        "colab": {
          "base_uri": "https://localhost:8080/"
        },
        "outputId": "bec38cfd-f023-4642-d709-8b5d2040a05a"
      },
      "outputs": [
        {
          "output_type": "stream",
          "name": "stdout",
          "text": [
            "Most positive reviews:\n",
            "\n",
            "1. Located in Lantau Island Hongkong Disneyland has always been dubbed as one of the most magical places on earth Yes it is truly magical as you will be seeing a lot of Disney characters you might have watched and sometimes your favorites   from Princesses to figure character and more You will be able to meet your favorite Disney characters watch live shows and parades and shop and dine at all themed areas of the Hong Kong Disneyland park HK Disneyland is accesible both via train car and buses Maki...\n",
            "Probability = 1.0 \n",
            "\n",
            "2. We have been to Disneyland in LA two times and Tokyo Disneyland Disney Sea Walking through the gates at HK Disneyland felt like going back to LA This is because the park is owned by Disney and HK Government We loved the quietness of HK Disneyland in the morning most things in HK dont open until 10am so to walk in with very few people in front of us was great Toy Storyland doesnt open until 11am We purchased our tickets online from Australia and printed them before we left You are sent an email w...\n",
            "Probability = 0.9999999999999922 \n",
            "\n",
            "3. We have just returned from Hong Kong and have spent 2 days in Disneyland November is a great time to visit the weather is cool and it does not coincide with any China or Hong Kong holidays so the park is not crowdedOur plan was to complete as many rides on the first day and then we look at taking picturesWe had skipped all photo taking opportunities with Disney Characters and headed straight for the Ironman experience It took us 15 20 mins to get on the ridesThe ride was great and all my kids ag...\n",
            "Probability = 0.9999999999999138 \n",
            "\n",
            "4. We had a magical holiday at the hongkong disneyland We stayed at the disney hollywood hotel We stayed at this hotel for 3 nights The hotel is plush with all modern amenities Very nice ambience This hotel does not have room service Hence all meals have to be taken at the hotels resturants There are 3 of them Chef Mickey buffet resturant is the best and serves limited indian dishes It is also very expensive One meal for 2 adults and one child can cost around 950 hkd For those who savour non vegeta...\n",
            "Probability = 0.9999999999996956 \n",
            "\n",
            "5. It   s been 7 years since I and my husband last went to Hong Kong Disneyland Still remember that was August month and also a very hot month to visit Disneyland This time we returned again and it   s the kids    and my sister in law   s family first trip here So we are travelling in the group of 9 people consist of 2 family     4 adult and 5 kids  age 2 7 years old We really were so blessed with great weather during our stay in Hong Kong The weather was fantastic Cool breeze clear blue sky sunny ...\n",
            "Probability = 0.9999999999995852 \n",
            "\n",
            "\n",
            "Most negative reviews:\n",
            "\n",
            "1. In short Hong Kong Disney has nothing to offer for Halloween 2015 Rather go to Ocean ParkDisney went to no trouble at for this years HalloweenThe last time we visited for the Halloween program was in 2012 when it was excellent A scary Haunted Hotel and other fantastic walk through attractions Lots of actors dressed up in Halloween costume and mingled with the crowds A wonderful parade of ghostly spectres dancing in Main Streetsadly that was not to be repeated2015 offered some really lame enterta...\n",
            "Probability = 0.9998011733150822 \n",
            "\n",
            "2. If youve done the real thing in Los Angeles then be prepared to be disappointed Its just not the same The rides are obviously tailored for local attraction and not what westerners would think are really great Not a whole lot to do it was very basic and for the price we thought very let down by a Disney product I wouldnt recommend to anyone wanting the Disney experience to go here Food  no good rides  no good Disney feel  nope not at all The locals may like it we didnt ...\n",
            "Probability = 0.9969027087294347 \n",
            "\n",
            "3. When we planned our trip to Hong Kong we didnt realise that we would be there for the Mid Autumn Festival When we went to Disneyland on the Sunday before the Festival we didnt realise that the line to get into the park would be over an hour long at 10am The heat was oppressive and there was far too little shade and water dispensers available After waiting waiting and waiting we gave up by 3pm after only getting in at 11am and leftThe park is very small compared to other Disneylands but the crowd...\n",
            "Probability = 0.9827604609415225 \n",
            "\n",
            "4. The crowd in Hong Kong in general is rude and impolite and will not think twice before pushing and shoving their way through And this trait of those visiting Disneyland gets heightened even more The rides have a minimum waiting time of 1 hour Often it seems people dont even know why they were standing in a particular line Just not worth the experience If you just cant miss this then at least go after 3 pm Most rides are open till 8 and park is open till 1030 Disappointing and just not worth it ...\n",
            "Probability = 0.9808829210090454 \n",
            "\n",
            "5. Never again What a waste of time and money The park is TINY compared to other Disneylands we have been to four altogether and the props decorations ATC a very poor standard This is the poor mans Disneyland If you are thinking of here vs the US or Paris parks its not even worth considering Hong Kong Very disappointing Id only go if you happen to have a day free and the kids are bored and have never been to a Disneyland before Dont take them if theyve been as this one is Dismal land...\n",
            "Probability = 0.9787370540764215 \n",
            "\n"
          ]
        }
      ],
      "source": [
        "#c)\n",
        "pos_proba = sentiment_proba[:,1] #probability of a review being positive\n",
        "neg_proba = sentiment_proba[:,0] #probability of a review being negative\n",
        "\n",
        "proba_pos, re_pos = zip(*sorted(zip(pos_proba, x_test)))\n",
        "proba_neg, re_neg = zip(*sorted(zip(neg_proba, x_test)))\n",
        "\n",
        "print('Most positive reviews:\\n')\n",
        "for i in range(1, 6):\n",
        "    print(f'{i}. {re_pos[-i][:500]}...')\n",
        "    print('Probability =', proba_pos[-i], '\\n')\n",
        "\n",
        "print('\\nMost negative reviews:\\n')\n",
        "for i in range(1, 6):\n",
        "    print(f'{i}. {re_neg[-i][:500]}...')\n",
        "    print('Probability =', proba_neg[-i], '\\n')\n",
        "\n",
        "#hint: use the results of b)"
      ]
    },
    {
      "cell_type": "code",
      "execution_count": 30,
      "metadata": {
        "collapsed": true,
        "id": "2a3EN8UcVFcc",
        "colab": {
          "base_uri": "https://localhost:8080/"
        },
        "outputId": "b25a2700-67ba-4e6f-eef7-5b8b23b04eee"
      },
      "outputs": [
        {
          "output_type": "stream",
          "name": "stdout",
          "text": [
            "Train mean square error:  0.0\n",
            "Test mean square error:  0.184\n",
            "Coefficient of determination: 1.0\n"
          ]
        }
      ],
      "source": [
        "#d)\n",
        "from sklearn.metrics import mean_squared_error\n",
        "\n",
        "print(\"Train mean square error: \", mean_squared_error(ra_train, model.predict(re_train)))\n",
        "print(\"Test mean square error: \", mean_squared_error(ra_test, sentiment_pred))\n",
        "print(\"Coefficient of determination:\", model.score(re_train, ra_train))"
      ]
    },
    {
      "cell_type": "code",
      "source": [
        "from sklearn.metrics import accuracy_score\n",
        "\n",
        "print(\"Accuracy score: \", accuracy_score(ra_test, sentiment_pred))"
      ],
      "metadata": {
        "colab": {
          "base_uri": "https://localhost:8080/"
        },
        "id": "wIbH36tN4O5B",
        "outputId": "b3c13aee-c7a2-4526-9b84-4156b01447c0"
      },
      "execution_count": 31,
      "outputs": [
        {
          "output_type": "stream",
          "name": "stdout",
          "text": [
            "Accuracy score:  0.954\n"
          ]
        }
      ]
    },
    {
      "cell_type": "markdown",
      "metadata": {
        "id": "lbJrYV92VFcc"
      },
      "source": [
        "## Exercise 5\n",
        "In this exercise we will limit the dictionary of CountVectorizer to the set of significant words, defined below.\n",
        "\n",
        "\n",
        "a) Redo exercises 2-5 using limited dictionary.   \n",
        "b) Check the impact of all the words from the dictionary.   \n",
        "c) Compare accuracy of predictions and the time of evaluation."
      ]
    },
    {
      "cell_type": "code",
      "execution_count": 37,
      "metadata": {
        "collapsed": true,
        "id": "aVfHmSc2VFcc"
      },
      "outputs": [],
      "source": [
        "significant_words = ['great', 'clean', 'enjoyed', 'parade', 'though', 'however', 'loved', 'must', 'can', 'different', 'disappointment', 'money', 'disappointing', 'closed', 'then', 'sun', 'disappointed', 'nothing', 'rude', 'few']"
      ]
    },
    {
      "cell_type": "code",
      "execution_count": 38,
      "metadata": {
        "collapsed": true,
        "id": "OylCssJOVFcd",
        "colab": {
          "base_uri": "https://localhost:8080/"
        },
        "outputId": "8a3545aa-10e6-4e8a-8c24-89ddaec7d908"
      },
      "outputs": [
        {
          "output_type": "stream",
          "name": "stdout",
          "text": [
            "most positive words:  ('enjoyed', 'loved', 'great', 'must', 'though', 'clean', 'however', 'different', 'can', 'few')\n",
            "most negative words:  ('rude', 'disappointment', 'disappointing', 'nothing', 'money', 'disappointed', 'closed', 'sun', 'then', 'few')\n"
          ]
        }
      ],
      "source": [
        "#a)\n",
        "vectorizer = CountVectorizer(vocabulary=significant_words)\n",
        "model = LogisticRegression()\n",
        "\n",
        "X_train_lim = vectorizer.fit_transform(x_train)\n",
        "X_test_lim = vectorizer.transform(x_test)\n",
        "\n",
        "model.fit(X_train_lim, ra_train)\n",
        "\n",
        "coefs, words = zip(*sorted(zip(model.coef_[0], vectorizer.get_feature_names_out())))\n",
        "print('most positive words: ',tuple(reversed(words[-11:-1])))\n",
        "print('most negative words: ',words[0:10])"
      ]
    },
    {
      "cell_type": "code",
      "source": [
        "sentiment_pred = model.predict(X_test_lim)\n",
        "sentiment_proba = model.predict_proba(X_test_lim)\n",
        "\n",
        "pos_proba = sentiment_proba[:,1] #probability of a review being positive\n",
        "neg_proba = sentiment_proba[:,0] #probability of a review being negative\n",
        "\n",
        "proba_pos, re_pos = zip(*sorted(zip(pos_proba, x_test)))\n",
        "proba_neg, re_neg = zip(*sorted(zip(neg_proba, x_test)))\n",
        "\n",
        "print('Most positive reviews:\\n')\n",
        "for i in range(1, 6):\n",
        "    print(f'{i}. {re_pos[-i][:500]}...')\n",
        "    print('Probability =', proba_pos[-i], '\\n')\n",
        "\n",
        "print('\\nMost negative reviews:\\n')\n",
        "for i in range(1, 6):\n",
        "    print(f'{i}. {re_neg[-i][:500]}...')\n",
        "    print('Probability =', proba_neg[-i], '\\n')"
      ],
      "metadata": {
        "colab": {
          "base_uri": "https://localhost:8080/"
        },
        "id": "F_Mq8OTD26Os",
        "outputId": "30bfa5b2-0eb6-4084-f926-f6f9611e5d89"
      },
      "execution_count": 39,
      "outputs": [
        {
          "output_type": "stream",
          "name": "stdout",
          "text": [
            "Most positive reviews:\n",
            "\n",
            "1. We lucked out as the day we decided to visit the park the weather was gorgeous I picked up a one day pass for everyone online so it was one less line to deal with at the parkGetting there the hotel staff recommended we just take a taxi as prices seem to be under control and it was a lot less hassle We took their advice and getting there involved zero stress or guesswork From Kowloon to the park was just under 200 HKDWe were dropped off very close to the main gate and while making your way to the...\n",
            "Probability = 0.9999992856996549 \n",
            "\n",
            "2. I came here expecting it to be rammed with people and even though there were a lot the park seemed to cope pretty well with the mass volume of visitors We caught the MTR to Sunny Bay and then caught the train   this was quite magical as a Disney themed train takes you to the theme park Trains were very frequent so no waiting around  Queues were not too bad I think the longest was 35 mins which is acceptable in summer holidays  With the busier rides we used a fast track ticket note there is no ex...\n",
            "Probability = 0.9999879885319037 \n",
            "\n",
            "3. We really loved our time here The  cast members  were so helpful and kind We went twice both on weekdays I cant imagine it being more crowded Lots of peoplePros Loved the Lion King show Be sure to go see that or any other show for that matter  Kind  crew members  They would take pictures with your phones LOVED that Frequent opportunities for pictures with characters  Loved the main strip especially the afternoon parade Dont miss that The evening fireworks are great We went for Christmas and they...\n",
            "Probability = 0.9999859784392804 \n",
            "\n",
            "4. Located in Lantau Island Hongkong Disneyland has always been dubbed as one of the most magical places on earth Yes it is truly magical as you will be seeing a lot of Disney characters you might have watched and sometimes your favorites   from Princesses to figure character and more You will be able to meet your favorite Disney characters watch live shows and parades and shop and dine at all themed areas of the Hong Kong Disneyland park HK Disneyland is accesible both via train car and buses Maki...\n",
            "Probability = 0.9999843443399918 \n",
            "\n",
            "5. Loved loved loved this place We visited as a family with my thirteen year old and I wasnt sure if he would be too old This was a needless worry as he lost the teenage attitude immediately and to my horror introduced me to his idea of roller coaster heavenTheres a wide range of rides to suit most children and in particular enough for young children to be happy and the parents who dont like the scary ridesNote that you are not allowed to take food or drink into the park and bags are searched Some ...\n",
            "Probability = 0.9999817091904458 \n",
            "\n",
            "\n",
            "Most negative reviews:\n",
            "\n",
            "1. We love theme parks and have visited several theme parks around the world Unfortunately this is the worst weve been so far This was our second visit to Disneyland in Hong Kong The park was overcrowded with long queus Due to the guests from mainland China there was a lot of queue jumping which resulted in a lot of fighting and pushing The staff of the park did nothing to control these people We stayed for four days but after day two my children did not want to go to the park anymore due to these ...\n",
            "Probability = 0.9561950352827667 \n",
            "\n",
            "2. My wife and I are Disney fans We aren   t particularly fanatical but we have enjoyed our visits to Tokyo Disneyland and are the type to go before opening and stay till closing time Since we were coming to HK we couldn   t pass up the opportunity to visit HK Disneyland as I had never been beforeBased on reviews online I had already tempered expectations but even then I was disappointed when we got there The good thing was that the queue to get into the park and the rides was so short we went on a...\n",
            "Probability = 0.9236167838795954 \n",
            "\n",
            "3. Visited with 2 young children Train to Disneyland is nice Visited on wkday and not much crowd short waiting time Some pushcarts and a few eating places not operating No selfie stick is allow The food are expensive 99 of the staff fr restaurant or shops or rides assiatance we came by are unfriendly no smile and rude The 1st rude staff is at the self  help ticketing station who keep saying no no no no while walking towards us These staff really spoil our day Put on mozzie patch or repellent Me and...\n",
            "Probability = 0.8693047633146679 \n",
            "\n",
            "4. The crowd in Hong Kong in general is rude and impolite and will not think twice before pushing and shoving their way through And this trait of those visiting Disneyland gets heightened even more The rides have a minimum waiting time of 1 hour Often it seems people dont even know why they were standing in a particular line Just not worth the experience If you just cant miss this then at least go after 3 pm Most rides are open till 8 and park is open till 1030 Disappointing and just not worth it ...\n",
            "Probability = 0.8111444951282114 \n",
            "\n",
            "5. Worst Disneyland i have ever been to Full of pushy mainlanders rides were closed and all a disappointment Do the real thing in the USA avoid this scaled down shambles of a  Disneyland  took my younger sister who is 13 and she was greatly disappointed and said that Ocean park was  a million times better  i take her word for it...\n",
            "Probability = 0.7582865587801865 \n",
            "\n"
          ]
        }
      ]
    },
    {
      "cell_type": "code",
      "execution_count": 35,
      "metadata": {
        "collapsed": true,
        "id": "9FcWp-BAVFcd",
        "colab": {
          "base_uri": "https://localhost:8080/"
        },
        "outputId": "3bff7beb-0be6-4418-968f-89c4e0338852"
      },
      "outputs": [
        {
          "output_type": "stream",
          "name": "stdout",
          "text": [
            "Word            Coefficient\n",
            "------------  -------------\n",
            "disappointed     -1.32619\n",
            "money            -1.17545\n",
            "return           -1.11009\n",
            "waste            -1.06827\n",
            "broke            -0.780836\n",
            "even             -0.45329\n",
            "old              -0.251822\n",
            "work             -0.172755\n",
            "little           -0.143938\n",
            "would            -0.111905\n",
            "product           0\n",
            "well              0.0802503\n",
            "less              0.17773\n",
            "car               0.327058\n",
            "loves             0.396401\n",
            "love              0.635125\n",
            "able              0.732521\n",
            "easy              0.973888\n",
            "great             1.11673\n",
            "perfect           1.29212\n"
          ]
        }
      ],
      "source": [
        "#b)\n",
        "from tabulate import tabulate\n",
        "\n",
        "table = [[words[i], coefs[i]] for i in range(0,20)]\n",
        "print(tabulate(table, headers=[\"Word\", \"Coefficient\"]))"
      ]
    },
    {
      "cell_type": "code",
      "execution_count": 36,
      "metadata": {
        "collapsed": true,
        "id": "8Dg36NmUVFcd",
        "colab": {
          "base_uri": "https://localhost:8080/"
        },
        "outputId": "fdc9c839-31d4-4753-c157-3daac9f8fad8"
      },
      "outputs": [
        {
          "output_type": "stream",
          "name": "stdout",
          "text": [
            "Train mean square error:  0.19542857142857142\n",
            "Test mean square error:  0.248\n",
            "Coefficient of determination: 0.9511428571428572\n",
            "\n",
            "Accuracy score:  0.938\n"
          ]
        }
      ],
      "source": [
        "#c)\n",
        "\n",
        "print(\"Train mean square error: \", mean_squared_error(ra_train, model.predict(X_train_lim)))\n",
        "print(\"Test mean square error: \", mean_squared_error(ra_test, sentiment_pred))\n",
        "print(\"Coefficient of determination:\", model.score(X_train_lim, ra_train))\n",
        "print(\"\\nAccuracy score: \", accuracy_score(ra_test, sentiment_pred))\n",
        "#hint: %time, %timeit"
      ]
    },
    {
      "cell_type": "markdown",
      "source": [
        "# Which Disneyland should we visit?\n",
        "I am calculating sum of ratings in each of three Disneylands in this dataset and dividing it by the number of reviews (higher is better)"
      ],
      "metadata": {
        "id": "Ck69gTTGIKXO"
      }
    },
    {
      "cell_type": "code",
      "source": [
        "s = baby_df.groupby('Branch')['Rating'].sum().reset_index()\n",
        "entries = baby_df['Branch'].value_counts()\n",
        "s.iloc[1], s.iloc[2] = s.iloc[2].copy(), s.iloc[1].copy()\n",
        "m = []\n",
        "\n",
        "for x in range(3):\n",
        "  m.append((s['Branch'][x], s['Rating'][x]/entries[x]))\n",
        "\n",
        "best = max(m, key = lambda x: x[1])\n",
        "worst = min(m, key = lambda x: x[1])\n",
        "print('best: ', best)\n",
        "print('worst: ', worst)\n"
      ],
      "metadata": {
        "colab": {
          "base_uri": "https://localhost:8080/"
        },
        "id": "qNG2hS9mINQr",
        "outputId": "62c5fc20-8801-45e3-efe9-b5c14035ffed"
      },
      "execution_count": 95,
      "outputs": [
        {
          "output_type": "stream",
          "name": "stdout",
          "text": [
            "best:  ('Disneyland_HongKong', 0.8769230769230769)\n",
            "worst:  ('Disneyland_Paris', 0.6757599376461418)\n"
          ]
        }
      ]
    }
  ],
  "metadata": {
    "anaconda-cloud": {},
    "colab": {
      "provenance": []
    },
    "kernelspec": {
      "display_name": "Python [conda env:anaconda2]",
      "language": "python",
      "name": "conda-env-anaconda2-py"
    },
    "language_info": {
      "codemirror_mode": {
        "name": "ipython",
        "version": 2
      },
      "file_extension": ".py",
      "mimetype": "text/x-python",
      "name": "python",
      "nbconvert_exporter": "python",
      "pygments_lexer": "ipython2",
      "version": "2.7.12"
    }
  },
  "nbformat": 4,
  "nbformat_minor": 0
}